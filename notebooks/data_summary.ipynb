{
 "cells": [
  {
   "cell_type": "code",
   "execution_count": 1,
   "id": "b3fb687c",
   "metadata": {},
   "outputs": [],
   "source": [
    "import pandas as pd\n",
    "\n",
    "# File path\n",
    "DATA_PATH = r\"D:\\@kaim\\insurance-analytics-kaim-week3\\data\\raw\\MachineLearningRating_v3.txt\"\n",
    "\n",
    "# Load data\n",
    "df = pd.read_csv(DATA_PATH, sep='|', low_memory=False)"
   ]
  },
  {
   "cell_type": "code",
   "execution_count": 2,
   "id": "e6f514ae",
   "metadata": {},
   "outputs": [
    {
     "name": "stdout",
     "output_type": "stream",
     "text": [
      "\n",
      "🔍 Dataset Shape: (1000098, 52)\n",
      "\n",
      "📊 Column Data Types:\n",
      "object     36\n",
      "float64    11\n",
      "int64       4\n",
      "bool        1\n",
      "Name: count, dtype: int64\n",
      "UnderwrittenCoverID           int64\n",
      "PolicyID                      int64\n",
      "TransactionMonth             object\n",
      "IsVATRegistered                bool\n",
      "Citizenship                  object\n",
      "LegalType                    object\n",
      "Title                        object\n",
      "Language                     object\n",
      "Bank                         object\n",
      "AccountType                  object\n",
      "MaritalStatus                object\n",
      "Gender                       object\n",
      "Country                      object\n",
      "Province                     object\n",
      "PostalCode                    int64\n",
      "MainCrestaZone               object\n",
      "SubCrestaZone                object\n",
      "ItemType                     object\n",
      "mmcode                      float64\n",
      "VehicleType                  object\n",
      "RegistrationYear              int64\n",
      "make                         object\n",
      "Model                        object\n",
      "Cylinders                   float64\n",
      "cubiccapacity               float64\n",
      "kilowatts                   float64\n",
      "bodytype                     object\n",
      "NumberOfDoors               float64\n",
      "VehicleIntroDate             object\n",
      "CustomValueEstimate         float64\n",
      "AlarmImmobiliser             object\n",
      "TrackingDevice               object\n",
      "CapitalOutstanding           object\n",
      "NewVehicle                   object\n",
      "WrittenOff                   object\n",
      "Rebuilt                      object\n",
      "Converted                    object\n",
      "CrossBorder                  object\n",
      "NumberOfVehiclesInFleet     float64\n",
      "SumInsured                  float64\n",
      "TermFrequency                object\n",
      "CalculatedPremiumPerTerm    float64\n",
      "ExcessSelected               object\n",
      "CoverCategory                object\n",
      "CoverType                    object\n",
      "CoverGroup                   object\n",
      "Section                      object\n",
      "Product                      object\n",
      "StatutoryClass               object\n",
      "StatutoryRiskType            object\n",
      "TotalPremium                float64\n",
      "TotalClaims                 float64\n",
      "dtype: object\n"
     ]
    }
   ],
   "source": [
    "# --- Summary ---\n",
    "print(\"\\n🔍 Dataset Shape:\", df.shape)\n",
    "\n",
    "# Column types\n",
    "print(\"\\n📊 Column Data Types:\")\n",
    "print(df.dtypes.value_counts())\n",
    "print(df.dtypes)\n"
   ]
  },
  {
   "cell_type": "code",
   "execution_count": 3,
   "id": "e250477a",
   "metadata": {},
   "outputs": [
    {
     "name": "stdout",
     "output_type": "stream",
     "text": [
      "\n",
      "🧮 Numeric Columns: ['UnderwrittenCoverID', 'PolicyID', 'PostalCode', 'mmcode', 'RegistrationYear', 'Cylinders', 'cubiccapacity', 'kilowatts', 'NumberOfDoors', 'CustomValueEstimate', 'NumberOfVehiclesInFleet', 'SumInsured', 'CalculatedPremiumPerTerm', 'TotalPremium', 'TotalClaims']\n",
      "\n",
      "🔡 Categorical Columns: ['TransactionMonth', 'IsVATRegistered', 'Citizenship', 'LegalType', 'Title', 'Language', 'Bank', 'AccountType', 'MaritalStatus', 'Gender', 'Country', 'Province', 'MainCrestaZone', 'SubCrestaZone', 'ItemType', 'VehicleType', 'make', 'Model', 'bodytype', 'VehicleIntroDate', 'AlarmImmobiliser', 'TrackingDevice', 'CapitalOutstanding', 'NewVehicle', 'WrittenOff', 'Rebuilt', 'Converted', 'CrossBorder', 'TermFrequency', 'ExcessSelected', 'CoverCategory', 'CoverType', 'CoverGroup', 'Section', 'Product', 'StatutoryClass', 'StatutoryRiskType']\n"
     ]
    }
   ],
   "source": [
    "# Numeric vs Categorical\n",
    "numeric_cols = df.select_dtypes(include=['number']).columns.tolist()\n",
    "categorical_cols = df.select_dtypes(include=['object', 'bool']).columns.tolist()\n",
    "\n",
    "print(\"\\n🧮 Numeric Columns:\", numeric_cols)\n",
    "print(\"\\n🔡 Categorical Columns:\", categorical_cols)"
   ]
  },
  {
   "cell_type": "code",
   "execution_count": 4,
   "id": "f8cb2efb",
   "metadata": {},
   "outputs": [
    {
     "name": "stdout",
     "output_type": "stream",
     "text": [
      "\n",
      "📈 Summary Statistics (Numerical):\n",
      "                              count          mean           std           min  \\\n",
      "UnderwrittenCoverID       1000098.0  1.048175e+05  6.329371e+04  1.000000e+00   \n",
      "PolicyID                  1000098.0  7.956682e+03  5.290039e+03  1.400000e+01   \n",
      "PostalCode                1000098.0  3.020601e+03  2.649854e+03  1.000000e+00   \n",
      "mmcode                     999546.0  5.487770e+07  1.360381e+07  4.041200e+06   \n",
      "RegistrationYear          1000098.0  2.010225e+03  3.261391e+00  1.987000e+03   \n",
      "Cylinders                  999546.0  4.046642e+00  2.940201e-01  0.000000e+00   \n",
      "cubiccapacity              999546.0  2.466743e+03  4.428006e+02  0.000000e+00   \n",
      "kilowatts                  999546.0  9.720792e+01  1.939326e+01  0.000000e+00   \n",
      "NumberOfDoors              999546.0  4.019250e+00  4.683144e-01  0.000000e+00   \n",
      "CustomValueEstimate        220456.0  2.255311e+05  5.645157e+05  2.000000e+04   \n",
      "NumberOfVehiclesInFleet         0.0           NaN           NaN           NaN   \n",
      "SumInsured                1000098.0  6.041727e+05  1.508332e+06  1.000000e-02   \n",
      "CalculatedPremiumPerTerm  1000098.0  1.178757e+02  3.997017e+02  0.000000e+00   \n",
      "TotalPremium              1000098.0  6.190550e+01  2.302845e+02 -7.825768e+02   \n",
      "TotalClaims               1000098.0  6.486119e+01  2.384075e+03 -1.200241e+04   \n",
      "\n",
      "                                   25%           50%           75%  \\\n",
      "UnderwrittenCoverID       5.514300e+04  9.408300e+04  1.391900e+05   \n",
      "PolicyID                  4.500000e+03  7.071000e+03  1.107700e+04   \n",
      "PostalCode                8.270000e+02  2.000000e+03  4.180000e+03   \n",
      "mmcode                    6.005692e+07  6.005842e+07  6.005842e+07   \n",
      "RegistrationYear          2.008000e+03  2.011000e+03  2.013000e+03   \n",
      "Cylinders                 4.000000e+00  4.000000e+00  4.000000e+00   \n",
      "cubiccapacity             2.237000e+03  2.694000e+03  2.694000e+03   \n",
      "kilowatts                 7.500000e+01  1.110000e+02  1.110000e+02   \n",
      "NumberOfDoors             4.000000e+00  4.000000e+00  4.000000e+00   \n",
      "CustomValueEstimate       1.350000e+05  2.200000e+05  2.800000e+05   \n",
      "NumberOfVehiclesInFleet            NaN           NaN           NaN   \n",
      "SumInsured                5.000000e+03  7.500000e+03  2.500000e+05   \n",
      "CalculatedPremiumPerTerm  3.224800e+00  8.436900e+00  9.000000e+01   \n",
      "TotalPremium              0.000000e+00  2.178333e+00  2.192982e+01   \n",
      "TotalClaims               0.000000e+00  0.000000e+00  0.000000e+00   \n",
      "\n",
      "                                   max  \n",
      "UnderwrittenCoverID       3.011750e+05  \n",
      "PolicyID                  2.324600e+04  \n",
      "PostalCode                9.870000e+03  \n",
      "mmcode                    6.506535e+07  \n",
      "RegistrationYear          2.015000e+03  \n",
      "Cylinders                 1.000000e+01  \n",
      "cubiccapacity             1.288000e+04  \n",
      "kilowatts                 3.090000e+02  \n",
      "NumberOfDoors             6.000000e+00  \n",
      "CustomValueEstimate       2.655000e+07  \n",
      "NumberOfVehiclesInFleet            NaN  \n",
      "SumInsured                1.263620e+07  \n",
      "CalculatedPremiumPerTerm  7.442217e+04  \n",
      "TotalPremium              6.528260e+04  \n",
      "TotalClaims               3.930921e+05  \n"
     ]
    }
   ],
   "source": [
    "# Descriptive Stats\n",
    "print(\"\\n📈 Summary Statistics (Numerical):\")\n",
    "print(df[numeric_cols].describe().T)"
   ]
  },
  {
   "cell_type": "code",
   "execution_count": 5,
   "id": "30ab9433",
   "metadata": {},
   "outputs": [
    {
     "name": "stdout",
     "output_type": "stream",
     "text": [
      "\n",
      "❓ Missing Values Summary:\n",
      "NumberOfVehiclesInFleet    1000098\n",
      "CrossBorder                 999400\n",
      "CustomValueEstimate         779642\n",
      "WrittenOff                  641901\n",
      "Converted                   641901\n",
      "Rebuilt                     641901\n",
      "NewVehicle                  153295\n",
      "Bank                        145961\n",
      "AccountType                  40232\n",
      "Gender                        9536\n",
      "MaritalStatus                 8259\n",
      "mmcode                         552\n",
      "VehicleType                    552\n",
      "make                           552\n",
      "VehicleIntroDate               552\n",
      "NumberOfDoors                  552\n",
      "bodytype                       552\n",
      "kilowatts                      552\n",
      "cubiccapacity                  552\n",
      "Cylinders                      552\n",
      "Model                          552\n",
      "CapitalOutstanding               2\n",
      "dtype: int64\n"
     ]
    }
   ],
   "source": [
    "# Missing values\n",
    "print(\"\\n❓ Missing Values Summary:\")\n",
    "missing = df.isnull().sum()\n",
    "missing = missing[missing > 0]\n",
    "print(missing.sort_values(ascending=False))\n"
   ]
  }
 ],
 "metadata": {
  "kernelspec": {
   "display_name": "env",
   "language": "python",
   "name": "python3"
  },
  "language_info": {
   "codemirror_mode": {
    "name": "ipython",
    "version": 3
   },
   "file_extension": ".py",
   "mimetype": "text/x-python",
   "name": "python",
   "nbconvert_exporter": "python",
   "pygments_lexer": "ipython3",
   "version": "3.13.1"
  }
 },
 "nbformat": 4,
 "nbformat_minor": 5
}
